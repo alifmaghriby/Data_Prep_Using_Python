{
  "nbformat": 4,
  "nbformat_minor": 0,
  "metadata": {
    "colab": {
      "provenance": [],
      "authorship_tag": "ABX9TyNdTXFWfx4k3dvSoLuL3bAM",
      "include_colab_link": true
    },
    "kernelspec": {
      "name": "python3",
      "display_name": "Python 3"
    },
    "language_info": {
      "name": "python"
    }
  },
  "cells": [
    {
      "cell_type": "markdown",
      "metadata": {
        "id": "view-in-github",
        "colab_type": "text"
      },
      "source": [
        "<a href=\"https://colab.research.google.com/github/alifmaghriby/Data_Prep_Using_Python/blob/main/Transjakarta_2021.ipynb\" target=\"_parent\"><img src=\"https://colab.research.google.com/assets/colab-badge.svg\" alt=\"Open In Colab\"/></a>"
      ]
    },
    {
      "cell_type": "markdown",
      "source": [
        "**1. IMPORT LIBRARY & DATASET**"
      ],
      "metadata": {
        "id": "JPielvWO0jIl"
      }
    },
    {
      "cell_type": "code",
      "execution_count": 13,
      "metadata": {
        "id": "kQbXfp2w0inw"
      },
      "outputs": [],
      "source": [
        "import pandas as pd"
      ]
    },
    {
      "cell_type": "code",
      "source": [
        "# Read excel file into a dataframe\n",
        "tj = pd.read_excel('/content/TJ 21.xlsx')"
      ],
      "metadata": {
        "id": "FcBCPBYn0oZB"
      },
      "execution_count": 14,
      "outputs": []
    },
    {
      "cell_type": "code",
      "source": [
        "# Show Dataset\n",
        "limit = 10\n",
        "print(tj.head(limit))"
      ],
      "metadata": {
        "colab": {
          "base_uri": "https://localhost:8080/"
        },
        "id": "i86dI9si1Aez",
        "outputId": "b55460cb-6624-4155-f3fa-9db40a57034f"
      },
      "execution_count": 15,
      "outputs": [
        {
          "output_type": "stream",
          "name": "stdout",
          "text": [
            "   tahun  bulan       jenis kode_trayek  \\\n",
            "0   2021      1  Mikrotrans      JAK.88   \n",
            "1   2021      1  Mikrotrans      JAK.85   \n",
            "2   2021      1  Mikrotrans      JAK.84   \n",
            "3   2021      1  Mikrotrans      JAK.80   \n",
            "4   2021      1  Mikrotrans       JA.77   \n",
            "5   2021      1  Mikrotrans      JAK.75   \n",
            "6   2021      1  Mikrotrans      JAK.74   \n",
            "7   2021      1  Mikrotrans      JAK.73   \n",
            "8   2021      1  Mikrotrans      JAK.72   \n",
            "9   2021      1  Mikrotrans      JAK.71   \n",
            "\n",
            "                                     trayek  jumlah_penumpang  \n",
            "0      Terminal Tanjung Priok - Ancol Barat              1473  \n",
            "1                  Bintara - Cipinang Indah             20280  \n",
            "2      Terminal Kampung Melayu - Kapin Raya             28779  \n",
            "3                 Rawa Buaya - Rawa Kompeni             54998  \n",
            "4             Tanjung Priok - Jembatan Item             60284  \n",
            "5                      Cililitan - Kp. Pulo             48220  \n",
            "6      Terminal Rawamangun - Cipinang Muara             38572  \n",
            "7              Jambore Cibubur - Pasar Rebo             65087  \n",
            "8  Kampung Rambutan - Pasar Rebo via Poncol             85416  \n",
            "9           Kampung Rambutan - Pinang Ranti             62822  \n"
          ]
        }
      ]
    },
    {
      "cell_type": "markdown",
      "source": [
        "**2. DATA PREPARATION**"
      ],
      "metadata": {
        "id": "wjFSrH2H1LLL"
      }
    },
    {
      "cell_type": "code",
      "source": [
        "# Prints The Dataset Information\n",
        "tj.info()"
      ],
      "metadata": {
        "colab": {
          "base_uri": "https://localhost:8080/"
        },
        "id": "jepzEVE81QRA",
        "outputId": "23af2963-f413-4015-ee4e-188c1700b15c"
      },
      "execution_count": 16,
      "outputs": [
        {
          "output_type": "stream",
          "name": "stdout",
          "text": [
            "<class 'pandas.core.frame.DataFrame'>\n",
            "RangeIndex: 1473 entries, 0 to 1472\n",
            "Data columns (total 6 columns):\n",
            " #   Column            Non-Null Count  Dtype \n",
            "---  ------            --------------  ----- \n",
            " 0   tahun             1473 non-null   int64 \n",
            " 1   bulan             1473 non-null   int64 \n",
            " 2   jenis             1473 non-null   object\n",
            " 3   kode_trayek       1473 non-null   object\n",
            " 4   trayek            1471 non-null   object\n",
            " 5   jumlah_penumpang  1473 non-null   int64 \n",
            "dtypes: int64(3), object(3)\n",
            "memory usage: 69.2+ KB\n"
          ]
        }
      ]
    },
    {
      "cell_type": "code",
      "source": [
        "# Convert column to years\n",
        "tj['tahun'] = tj['tahun'].astype('str')\n"
      ],
      "metadata": {
        "id": "wv-nZhwj1xw0"
      },
      "execution_count": 17,
      "outputs": []
    },
    {
      "cell_type": "code",
      "source": [
        "# Mapping of month numbers to month names\n",
        "month_mapping = {\n",
        "    1: 'January',\n",
        "    2: 'February',\n",
        "    3: 'March',\n",
        "    4: 'April',\n",
        "    5: 'May',\n",
        "    6: 'June',\n",
        "    7: 'July',\n",
        "    8: 'August',\n",
        "    9: 'September',\n",
        "    10: 'October',\n",
        "    11: 'November',\n",
        "    12: 'December'\n",
        "}\n",
        "\n",
        "# Convert 'bulan' column to month names\n",
        "tj['bulan'] = tj['bulan'].map(month_mapping)\n"
      ],
      "metadata": {
        "id": "qNe5uEOM19wv"
      },
      "execution_count": 18,
      "outputs": []
    },
    {
      "cell_type": "code",
      "source": [
        "# Show Dataset to Re-Check\n",
        "limit = 10\n",
        "print(tj.head(limit))"
      ],
      "metadata": {
        "colab": {
          "base_uri": "https://localhost:8080/"
        },
        "id": "Y0XXeRFj2q5w",
        "outputId": "42995ccd-51bf-47c5-c390-14d29f7037ab"
      },
      "execution_count": 19,
      "outputs": [
        {
          "output_type": "stream",
          "name": "stdout",
          "text": [
            "  tahun    bulan       jenis kode_trayek  \\\n",
            "0  2021  January  Mikrotrans      JAK.88   \n",
            "1  2021  January  Mikrotrans      JAK.85   \n",
            "2  2021  January  Mikrotrans      JAK.84   \n",
            "3  2021  January  Mikrotrans      JAK.80   \n",
            "4  2021  January  Mikrotrans       JA.77   \n",
            "5  2021  January  Mikrotrans      JAK.75   \n",
            "6  2021  January  Mikrotrans      JAK.74   \n",
            "7  2021  January  Mikrotrans      JAK.73   \n",
            "8  2021  January  Mikrotrans      JAK.72   \n",
            "9  2021  January  Mikrotrans      JAK.71   \n",
            "\n",
            "                                     trayek  jumlah_penumpang  \n",
            "0      Terminal Tanjung Priok - Ancol Barat              1473  \n",
            "1                  Bintara - Cipinang Indah             20280  \n",
            "2      Terminal Kampung Melayu - Kapin Raya             28779  \n",
            "3                 Rawa Buaya - Rawa Kompeni             54998  \n",
            "4             Tanjung Priok - Jembatan Item             60284  \n",
            "5                      Cililitan - Kp. Pulo             48220  \n",
            "6      Terminal Rawamangun - Cipinang Muara             38572  \n",
            "7              Jambore Cibubur - Pasar Rebo             65087  \n",
            "8  Kampung Rambutan - Pasar Rebo via Poncol             85416  \n",
            "9           Kampung Rambutan - Pinang Ranti             62822  \n"
          ]
        }
      ]
    },
    {
      "cell_type": "code",
      "source": [
        "#Check for Missing Values\n",
        "tj.isnull().sum()"
      ],
      "metadata": {
        "colab": {
          "base_uri": "https://localhost:8080/"
        },
        "id": "Z_aCWKut3Buq",
        "outputId": "36fc9ef7-5531-45b8-f99e-aef0e8db6c50"
      },
      "execution_count": 20,
      "outputs": [
        {
          "output_type": "execute_result",
          "data": {
            "text/plain": [
              "tahun               0\n",
              "bulan               0\n",
              "jenis               0\n",
              "kode_trayek         0\n",
              "trayek              2\n",
              "jumlah_penumpang    0\n",
              "dtype: int64"
            ]
          },
          "metadata": {},
          "execution_count": 20
        }
      ]
    },
    {
      "cell_type": "code",
      "source": [
        "# Replace missing values with a specific value\n",
        "tj = tj.fillna('null')"
      ],
      "metadata": {
        "id": "zwZ0JIvr3FIc"
      },
      "execution_count": 21,
      "outputs": []
    },
    {
      "cell_type": "code",
      "source": [
        "# Transform headers to lowercase titlecase\n",
        "tj.columns = tj.columns.str.lower().str.title()"
      ],
      "metadata": {
        "id": "aQD1ExUs3P3b"
      },
      "execution_count": 22,
      "outputs": []
    },
    {
      "cell_type": "code",
      "source": [
        "# Save dataframe to Excel file\n",
        "tj.to_excel('tj_2021.xlsx', index=False)"
      ],
      "metadata": {
        "id": "bNyMwZMK3Tbb"
      },
      "execution_count": 23,
      "outputs": []
    }
  ]
}