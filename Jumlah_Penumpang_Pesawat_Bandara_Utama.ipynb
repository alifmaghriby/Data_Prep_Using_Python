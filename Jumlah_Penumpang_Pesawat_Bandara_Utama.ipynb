{
  "nbformat": 4,
  "nbformat_minor": 0,
  "metadata": {
    "colab": {
      "provenance": [],
      "authorship_tag": "ABX9TyP8Uc1z5KQmFIhYZWCkC1/+",
      "include_colab_link": true
    },
    "kernelspec": {
      "name": "python3",
      "display_name": "Python 3"
    },
    "language_info": {
      "name": "python"
    }
  },
  "cells": [
    {
      "cell_type": "markdown",
      "metadata": {
        "id": "view-in-github",
        "colab_type": "text"
      },
      "source": [
        "<a href=\"https://colab.research.google.com/github/alifmaghriby/Data_Prep_Using_Python/blob/main/Jumlah_Penumpang_Pesawat_Bandara_Utama.ipynb\" target=\"_parent\"><img src=\"https://colab.research.google.com/assets/colab-badge.svg\" alt=\"Open In Colab\"/></a>"
      ]
    },
    {
      "cell_type": "markdown",
      "source": [
        "**1. IMPORT LIBRARY & DATASET**"
      ],
      "metadata": {
        "id": "49CriWPGnxjK"
      }
    },
    {
      "cell_type": "code",
      "execution_count": 10,
      "metadata": {
        "id": "e8zLfQmUnwuF"
      },
      "outputs": [],
      "source": [
        "import pandas as pd"
      ]
    },
    {
      "cell_type": "code",
      "source": [
        "# Read Excel file into a dataframe\n",
        "bandara = pd.read_excel('/content/Jumlah_Penumpang_Pesawat_Bandara_Utama.xlsx')"
      ],
      "metadata": {
        "id": "7NYe8Y70oB-V"
      },
      "execution_count": 11,
      "outputs": []
    },
    {
      "cell_type": "code",
      "source": [
        "# Show Dataset\n",
        "limit = 10\n",
        "print(bandara.head(limit))"
      ],
      "metadata": {
        "colab": {
          "base_uri": "https://localhost:8080/",
          "height": 0
        },
        "id": "PdYgglp5phn6",
        "outputId": "cf8bc51b-8075-4178-ff36-203f6e213cb5"
      },
      "execution_count": 12,
      "outputs": [
        {
          "output_type": "stream",
          "name": "stdout",
          "text": [
            "   Bandara  Penerbangan Domestik  Penerbangan Internasional       Date\n",
            "0  Polonia                157614                      379.0 2021-01-01\n",
            "1  Polonia                100191                      476.0 2021-02-01\n",
            "2  Polonia                122498                      715.0 2021-03-01\n",
            "3  Polonia                119306                      555.0 2021-04-01\n",
            "4  Polonia                104644                      334.0 2021-05-01\n",
            "5  Polonia                150762                      275.0 2021-06-01\n",
            "6  Polonia                 51362                      188.0 2021-07-01\n",
            "7  Polonia                 49711                       88.0 2021-08-01\n",
            "8  Polonia                 80935                       65.0 2021-09-01\n",
            "9  Polonia                116465                       29.0 2021-10-01\n"
          ]
        }
      ]
    },
    {
      "cell_type": "markdown",
      "source": [
        "**2. DATA PREPARATION**"
      ],
      "metadata": {
        "id": "Ecr6vnV0pso9"
      }
    },
    {
      "cell_type": "code",
      "source": [
        "# Prints The Dataset Information\n",
        "bandara.info()"
      ],
      "metadata": {
        "colab": {
          "base_uri": "https://localhost:8080/",
          "height": 0
        },
        "id": "Tuvg6M_Upwet",
        "outputId": "9b2f1fa0-5ada-4755-b055-621c28bc075e"
      },
      "execution_count": 13,
      "outputs": [
        {
          "output_type": "stream",
          "name": "stdout",
          "text": [
            "<class 'pandas.core.frame.DataFrame'>\n",
            "RangeIndex: 150 entries, 0 to 149\n",
            "Data columns (total 4 columns):\n",
            " #   Column                     Non-Null Count  Dtype         \n",
            "---  ------                     --------------  -----         \n",
            " 0   Bandara                    150 non-null    object        \n",
            " 1   Penerbangan Domestik       150 non-null    int64         \n",
            " 2   Penerbangan Internasional  120 non-null    float64       \n",
            " 3   Date                       150 non-null    datetime64[ns]\n",
            "dtypes: datetime64[ns](1), float64(1), int64(1), object(1)\n",
            "memory usage: 4.8+ KB\n"
          ]
        }
      ]
    },
    {
      "cell_type": "code",
      "source": [
        "#Check for Missing Values\n",
        "bandara.isnull().sum()"
      ],
      "metadata": {
        "colab": {
          "base_uri": "https://localhost:8080/",
          "height": 0
        },
        "id": "kzXs_d83p38-",
        "outputId": "857febd3-4074-4df3-87db-81653bd70537"
      },
      "execution_count": 14,
      "outputs": [
        {
          "output_type": "execute_result",
          "data": {
            "text/plain": [
              "Bandara                       0\n",
              "Penerbangan Domestik          0\n",
              "Penerbangan Internasional    30\n",
              "Date                          0\n",
              "dtype: int64"
            ]
          },
          "metadata": {},
          "execution_count": 14
        }
      ]
    },
    {
      "cell_type": "code",
      "source": [
        "# Replace missing values with a specific value\n",
        "bandara = bandara.fillna(0)"
      ],
      "metadata": {
        "id": "riEZkh6FCr4R"
      },
      "execution_count": 15,
      "outputs": []
    },
    {
      "cell_type": "code",
      "source": [
        "# Transform headers to lowercase titlecase\n",
        "bandara.columns = bandara.columns.str.lower().str.title()"
      ],
      "metadata": {
        "id": "tnivhrlQqo0s"
      },
      "execution_count": 16,
      "outputs": []
    },
    {
      "cell_type": "code",
      "source": [
        "# Save dataframe to Excel file\n",
        "bandara.to_excel('bandara_utama.xlsx', index=False)"
      ],
      "metadata": {
        "id": "7bYsgSrSqvkQ"
      },
      "execution_count": 17,
      "outputs": []
    }
  ]
}